{
 "cells": [
  {
   "cell_type": "markdown",
   "id": "363bbd1d-1eae-47db-805d-991eaf3dac90",
   "metadata": {},
   "source": [
    "## Write"
   ]
  },
  {
   "cell_type": "code",
   "execution_count": 1,
   "id": "93602a5d-88ca-42ae-9a82-8c543ec184fd",
   "metadata": {},
   "outputs": [],
   "source": [
    "%reset -f \n",
    "import os\n",
    "import pandas as pd\n",
    "\n",
    "filename = \"first.xlsx\"\n",
    "file_dir = \"myfiles\"\n",
    "\n",
    "file_path = os.path.join(file_dir,filename)\n",
    "\n",
    "df = pd.DataFrame([[\"ABC\", \"XYZ\"]], columns=[\"Foo\", \"Bar\"])  \n",
    "with pd.ExcelWriter(file_path) as writer:\n",
    "    df.to_excel(writer)  "
   ]
  },
  {
   "cell_type": "markdown",
   "id": "76f5f605-48f0-4bb7-9201-a246d478bbfd",
   "metadata": {},
   "source": [
    "## Append Tab"
   ]
  },
  {
   "cell_type": "code",
   "execution_count": 2,
   "id": "11585a39-2cc3-4f0a-a7ad-3fe714600908",
   "metadata": {},
   "outputs": [],
   "source": [
    "from datetime import date, datetime\n",
    "df = pd.DataFrame(\n",
    "    [\n",
    "        [date(2014, 1, 31), date(1999, 9, 24)],\n",
    "        [datetime(1998, 5, 26, 23, 33, 4), datetime(2014, 2, 28, 13, 5, 13)],\n",
    "    ],\n",
    "    index=[\"Date\", \"Datetime\"],\n",
    "    columns=[\"X\", \"Y\"],\n",
    ")\n",
    "\n",
    "with pd.ExcelWriter(file_path, mode=\"a\", engine=\"openpyxl\") as writer:\n",
    "    df.to_excel(writer, sheet_name=\"dates_test\")  "
   ]
  },
  {
   "cell_type": "markdown",
   "id": "c0d5ddf5-e204-42e5-abd8-a9efafa546d1",
   "metadata": {},
   "source": [
    "## Read Tabs"
   ]
  },
  {
   "cell_type": "code",
   "execution_count": 8,
   "id": "4942b1bf-a1af-4c0b-aa38-cc96d2687c32",
   "metadata": {},
   "outputs": [
    {
     "data": {
      "text/html": [
       "<div>\n",
       "<style scoped>\n",
       "    .dataframe tbody tr th:only-of-type {\n",
       "        vertical-align: middle;\n",
       "    }\n",
       "\n",
       "    .dataframe tbody tr th {\n",
       "        vertical-align: top;\n",
       "    }\n",
       "\n",
       "    .dataframe thead th {\n",
       "        text-align: right;\n",
       "    }\n",
       "</style>\n",
       "<table border=\"1\" class=\"dataframe\">\n",
       "  <thead>\n",
       "    <tr style=\"text-align: right;\">\n",
       "      <th></th>\n",
       "      <th>Foo</th>\n",
       "      <th>Bar</th>\n",
       "    </tr>\n",
       "  </thead>\n",
       "  <tbody>\n",
       "    <tr>\n",
       "      <th>0</th>\n",
       "      <td>ABC</td>\n",
       "      <td>XYZ</td>\n",
       "    </tr>\n",
       "  </tbody>\n",
       "</table>\n",
       "</div>"
      ],
      "text/plain": [
       "   Foo  Bar\n",
       "0  ABC  XYZ"
      ]
     },
     "metadata": {},
     "output_type": "display_data"
    }
   ],
   "source": [
    "df = pd.read_excel(file_path, index_col=0, sheet_name='Sheet1')\n",
    "display(df)"
   ]
  },
  {
   "cell_type": "code",
   "execution_count": 9,
   "id": "db4872a0-2e38-4449-a634-6908443a7dc5",
   "metadata": {},
   "outputs": [
    {
     "data": {
      "text/html": [
       "<div>\n",
       "<style scoped>\n",
       "    .dataframe tbody tr th:only-of-type {\n",
       "        vertical-align: middle;\n",
       "    }\n",
       "\n",
       "    .dataframe tbody tr th {\n",
       "        vertical-align: top;\n",
       "    }\n",
       "\n",
       "    .dataframe thead th {\n",
       "        text-align: right;\n",
       "    }\n",
       "</style>\n",
       "<table border=\"1\" class=\"dataframe\">\n",
       "  <thead>\n",
       "    <tr style=\"text-align: right;\">\n",
       "      <th></th>\n",
       "      <th>X</th>\n",
       "      <th>Y</th>\n",
       "    </tr>\n",
       "  </thead>\n",
       "  <tbody>\n",
       "    <tr>\n",
       "      <th>Date</th>\n",
       "      <td>2014-01-31 00:00:00</td>\n",
       "      <td>1999-09-24 00:00:00</td>\n",
       "    </tr>\n",
       "    <tr>\n",
       "      <th>Datetime</th>\n",
       "      <td>1998-05-26 23:33:04</td>\n",
       "      <td>2014-02-28 13:05:13</td>\n",
       "    </tr>\n",
       "  </tbody>\n",
       "</table>\n",
       "</div>"
      ],
      "text/plain": [
       "                           X                   Y\n",
       "Date     2014-01-31 00:00:00 1999-09-24 00:00:00\n",
       "Datetime 1998-05-26 23:33:04 2014-02-28 13:05:13"
      ]
     },
     "metadata": {},
     "output_type": "display_data"
    }
   ],
   "source": [
    "df = pd.read_excel(file_path, index_col=0, sheet_name='dates_test')\n",
    "display(df)"
   ]
  },
  {
   "cell_type": "markdown",
   "id": "85190c3d-ed40-4412-92d7-a0d4246d8276",
   "metadata": {},
   "source": [
    "## Read Tab and Modify"
   ]
  },
  {
   "cell_type": "code",
   "execution_count": 10,
   "id": "31fb779c-586f-4fae-88d8-ad9397864fe6",
   "metadata": {},
   "outputs": [
    {
     "data": {
      "text/html": [
       "<div>\n",
       "<style scoped>\n",
       "    .dataframe tbody tr th:only-of-type {\n",
       "        vertical-align: middle;\n",
       "    }\n",
       "\n",
       "    .dataframe tbody tr th {\n",
       "        vertical-align: top;\n",
       "    }\n",
       "\n",
       "    .dataframe thead th {\n",
       "        text-align: right;\n",
       "    }\n",
       "</style>\n",
       "<table border=\"1\" class=\"dataframe\">\n",
       "  <thead>\n",
       "    <tr style=\"text-align: right;\">\n",
       "      <th></th>\n",
       "      <th>Foo</th>\n",
       "      <th>Bar</th>\n",
       "    </tr>\n",
       "  </thead>\n",
       "  <tbody>\n",
       "    <tr>\n",
       "      <th>0</th>\n",
       "      <td>ABC</td>\n",
       "      <td>XYZ</td>\n",
       "    </tr>\n",
       "  </tbody>\n",
       "</table>\n",
       "</div>"
      ],
      "text/plain": [
       "   Foo  Bar\n",
       "0  ABC  XYZ"
      ]
     },
     "metadata": {},
     "output_type": "display_data"
    }
   ],
   "source": [
    "df = pd.read_excel(file_path, index_col=0, sheet_name='Sheet1')\n",
    "display(df)"
   ]
  },
  {
   "cell_type": "code",
   "execution_count": 31,
   "id": "4a5e44b8-e6b9-44df-a524-983c02bdd050",
   "metadata": {},
   "outputs": [
    {
     "data": {
      "text/html": [
       "<div>\n",
       "<style scoped>\n",
       "    .dataframe tbody tr th:only-of-type {\n",
       "        vertical-align: middle;\n",
       "    }\n",
       "\n",
       "    .dataframe tbody tr th {\n",
       "        vertical-align: top;\n",
       "    }\n",
       "\n",
       "    .dataframe thead th {\n",
       "        text-align: right;\n",
       "    }\n",
       "</style>\n",
       "<table border=\"1\" class=\"dataframe\">\n",
       "  <thead>\n",
       "    <tr style=\"text-align: right;\">\n",
       "      <th></th>\n",
       "      <th>Foo</th>\n",
       "      <th>Bar</th>\n",
       "    </tr>\n",
       "  </thead>\n",
       "  <tbody>\n",
       "    <tr>\n",
       "      <th>0</th>\n",
       "      <td>ABC</td>\n",
       "      <td>XYZ</td>\n",
       "    </tr>\n",
       "    <tr>\n",
       "      <th>0</th>\n",
       "      <td>ABCABC</td>\n",
       "      <td>XYZXYZ</td>\n",
       "    </tr>\n",
       "    <tr>\n",
       "      <th>0</th>\n",
       "      <td>ABCXYZ</td>\n",
       "      <td>ZYXCBA</td>\n",
       "    </tr>\n",
       "    <tr>\n",
       "      <th>0</th>\n",
       "      <td>abc</td>\n",
       "      <td>xyz</td>\n",
       "    </tr>\n",
       "  </tbody>\n",
       "</table>\n",
       "</div>"
      ],
      "text/plain": [
       "      Foo     Bar\n",
       "0     ABC     XYZ\n",
       "0  ABCABC  XYZXYZ\n",
       "0  ABCXYZ  ZYXCBA\n",
       "0     abc     xyz"
      ]
     },
     "metadata": {},
     "output_type": "display_data"
    }
   ],
   "source": [
    "tmp1 = df + df\n",
    "\n",
    "tmp = ''.join([df[col][0] for col in df.columns])\n",
    "data = [tmp, tmp[::-1]]\n",
    "tmp2 = pd.DataFrame([data], columns=[\"Foo\", \"Bar\"])\n",
    "\n",
    "data = [i.lower() for i in df.iloc[0]]\n",
    "tmp3 = pd.DataFrame([data], columns=[\"Foo\", \"Bar\"])\n",
    "# https://pandas.pydata.org/pandas-docs/stable/user_guide/merging.html\n",
    "\n",
    "frames = [df, tmp1, tmp2, tmp3]\n",
    "    \n",
    "result = pd.concat(frames)\n",
    "display(result)"
   ]
  },
  {
   "cell_type": "code",
   "execution_count": 32,
   "id": "0b846724-27d6-4aeb-998e-dbd4a58d9668",
   "metadata": {},
   "outputs": [],
   "source": [
    "with pd.ExcelWriter(file_path, mode=\"w\") as writer:\n",
    "    result.to_excel(writer, sheet_name=\"Sheet1\")  "
   ]
  },
  {
   "cell_type": "code",
   "execution_count": 33,
   "id": "6c8df473-f187-440e-a843-84ec66c4c0ac",
   "metadata": {},
   "outputs": [
    {
     "data": {
      "text/html": [
       "<div>\n",
       "<style scoped>\n",
       "    .dataframe tbody tr th:only-of-type {\n",
       "        vertical-align: middle;\n",
       "    }\n",
       "\n",
       "    .dataframe tbody tr th {\n",
       "        vertical-align: top;\n",
       "    }\n",
       "\n",
       "    .dataframe thead th {\n",
       "        text-align: right;\n",
       "    }\n",
       "</style>\n",
       "<table border=\"1\" class=\"dataframe\">\n",
       "  <thead>\n",
       "    <tr style=\"text-align: right;\">\n",
       "      <th></th>\n",
       "      <th>Foo</th>\n",
       "      <th>Bar</th>\n",
       "    </tr>\n",
       "  </thead>\n",
       "  <tbody>\n",
       "    <tr>\n",
       "      <th>0</th>\n",
       "      <td>ABC</td>\n",
       "      <td>XYZ</td>\n",
       "    </tr>\n",
       "    <tr>\n",
       "      <th>0</th>\n",
       "      <td>ABCABC</td>\n",
       "      <td>XYZXYZ</td>\n",
       "    </tr>\n",
       "    <tr>\n",
       "      <th>0</th>\n",
       "      <td>ABCXYZ</td>\n",
       "      <td>ZYXCBA</td>\n",
       "    </tr>\n",
       "    <tr>\n",
       "      <th>0</th>\n",
       "      <td>abc</td>\n",
       "      <td>xyz</td>\n",
       "    </tr>\n",
       "  </tbody>\n",
       "</table>\n",
       "</div>"
      ],
      "text/plain": [
       "      Foo     Bar\n",
       "0     ABC     XYZ\n",
       "0  ABCABC  XYZXYZ\n",
       "0  ABCXYZ  ZYXCBA\n",
       "0     abc     xyz"
      ]
     },
     "execution_count": 33,
     "metadata": {},
     "output_type": "execute_result"
    }
   ],
   "source": [
    "# confirm overwritten data\n",
    "pd.read_excel(file_path, index_col=0, sheet_name='Sheet1')"
   ]
  },
  {
   "cell_type": "markdown",
   "id": "c6bfaad2-984f-4a7f-8b75-bd845767b829",
   "metadata": {},
   "source": [
    "## Cleanup Test Files"
   ]
  },
  {
   "cell_type": "code",
   "execution_count": 35,
   "id": "a5a1ba43-c885-4aa1-a98f-531d86634993",
   "metadata": {},
   "outputs": [],
   "source": [
    "os.remove(file_path)"
   ]
  },
  {
   "cell_type": "code",
   "execution_count": null,
   "id": "8e4fcfee-42e0-406f-af64-085aa3c26acf",
   "metadata": {},
   "outputs": [],
   "source": []
  }
 ],
 "metadata": {
  "kernelspec": {
   "display_name": "Python 3 (ipykernel)",
   "language": "python",
   "name": "python3"
  },
  "language_info": {
   "codemirror_mode": {
    "name": "ipython",
    "version": 3
   },
   "file_extension": ".py",
   "mimetype": "text/x-python",
   "name": "python",
   "nbconvert_exporter": "python",
   "pygments_lexer": "ipython3",
   "version": "3.10.6"
  }
 },
 "nbformat": 4,
 "nbformat_minor": 5
}
